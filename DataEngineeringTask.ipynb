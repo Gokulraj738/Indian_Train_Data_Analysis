{
 "cells": [
  {
   "cell_type": "code",
   "execution_count": 1,
   "id": "f933c257",
   "metadata": {},
   "outputs": [
    {
     "data": {
      "text/plain": [
       "'module://matplotlib_inline.backend_inline'"
      ]
     },
     "execution_count": 1,
     "metadata": {},
     "output_type": "execute_result"
    }
   ],
   "source": [
    "import os\n",
    "os.environ.pop('MPLBACKEND', None)\n"
   ]
  },
  {
   "cell_type": "code",
   "execution_count": 2,
   "id": "7b7e0410",
   "metadata": {},
   "outputs": [],
   "source": [
    "import matplotlib"
   ]
  },
  {
   "cell_type": "code",
   "execution_count": 3,
   "id": "8dfd9ad6",
   "metadata": {},
   "outputs": [],
   "source": [
    "import matplotlib as plt"
   ]
  },
  {
   "cell_type": "code",
   "execution_count": 4,
   "id": "f2fd302c",
   "metadata": {},
   "outputs": [
    {
     "name": "stdout",
     "output_type": "stream",
     "text": [
      "Requirement already satisfied: pandas in c:\\users\\hp\\anaconda3\\lib\\site-packages (2.2.3)\n",
      "Requirement already satisfied: numpy>=1.23.2 in c:\\users\\hp\\anaconda3\\lib\\site-packages (from pandas) (1.26.4)\n",
      "Requirement already satisfied: python-dateutil>=2.8.2 in c:\\users\\hp\\anaconda3\\lib\\site-packages (from pandas) (2.9.0.post0)\n",
      "Requirement already satisfied: pytz>=2020.1 in c:\\users\\hp\\anaconda3\\lib\\site-packages (from pandas) (2024.1)\n",
      "Requirement already satisfied: tzdata>=2022.7 in c:\\users\\hp\\anaconda3\\lib\\site-packages (from pandas) (2025.2)\n",
      "Requirement already satisfied: six>=1.5 in c:\\users\\hp\\anaconda3\\lib\\site-packages (from python-dateutil>=2.8.2->pandas) (1.17.0)\n",
      "Note: you may need to restart the kernel to use updated packages.\n"
     ]
    },
    {
     "name": "stderr",
     "output_type": "stream",
     "text": [
      "WARNING: Skipping c:\\Users\\Hp\\anaconda3\\Lib\\site-packages\\numpy-2.2.5.dist-info due to invalid metadata entry 'name'\n",
      "WARNING: Skipping c:\\Users\\Hp\\anaconda3\\Lib\\site-packages\\numpy-2.2.5.dist-info due to invalid metadata entry 'name'\n",
      "WARNING: Skipping c:\\Users\\Hp\\anaconda3\\Lib\\site-packages\\numpy-2.2.5.dist-info due to invalid metadata entry 'name'\n",
      "WARNING: Skipping c:\\Users\\Hp\\anaconda3\\Lib\\site-packages\\numpy-2.2.5.dist-info due to invalid metadata entry 'name'\n",
      "WARNING: Skipping c:\\Users\\Hp\\anaconda3\\Lib\\site-packages\\numpy-2.2.5.dist-info due to invalid metadata entry 'name'\n",
      "WARNING: Skipping c:\\Users\\Hp\\anaconda3\\Lib\\site-packages\\numpy-2.2.5.dist-info due to invalid metadata entry 'name'\n"
     ]
    }
   ],
   "source": [
    "pip install pandas"
   ]
  },
  {
   "cell_type": "code",
   "execution_count": 5,
   "id": "41a746cd",
   "metadata": {},
   "outputs": [],
   "source": [
    "import pandas as pd"
   ]
  },
  {
   "cell_type": "code",
   "execution_count": 6,
   "id": "de54b1ec",
   "metadata": {},
   "outputs": [],
   "source": [
    "df=pd.read_csv(\"C:/Users/Hp/Downloads/Railway_info.csv\")"
   ]
  },
  {
   "cell_type": "code",
   "execution_count": 7,
   "id": "760f4003",
   "metadata": {},
   "outputs": [
    {
     "name": "stdout",
     "output_type": "stream",
     "text": [
      "First 10 rows in Dataset\n"
     ]
    },
    {
     "data": {
      "text/html": [
       "<div>\n",
       "<style scoped>\n",
       "    .dataframe tbody tr th:only-of-type {\n",
       "        vertical-align: middle;\n",
       "    }\n",
       "\n",
       "    .dataframe tbody tr th {\n",
       "        vertical-align: top;\n",
       "    }\n",
       "\n",
       "    .dataframe thead th {\n",
       "        text-align: right;\n",
       "    }\n",
       "</style>\n",
       "<table border=\"1\" class=\"dataframe\">\n",
       "  <thead>\n",
       "    <tr style=\"text-align: right;\">\n",
       "      <th></th>\n",
       "      <th>Train_No</th>\n",
       "      <th>Train_Name</th>\n",
       "      <th>Source_Station_Name</th>\n",
       "      <th>Destination_Station_Name</th>\n",
       "      <th>days</th>\n",
       "    </tr>\n",
       "  </thead>\n",
       "  <tbody>\n",
       "    <tr>\n",
       "      <th>0</th>\n",
       "      <td>107</td>\n",
       "      <td>SWV-MAO-VLNK</td>\n",
       "      <td>SAWANTWADI ROAD</td>\n",
       "      <td>MADGOAN JN.</td>\n",
       "      <td>Saturday</td>\n",
       "    </tr>\n",
       "    <tr>\n",
       "      <th>1</th>\n",
       "      <td>108</td>\n",
       "      <td>VLNK-MAO-SWV</td>\n",
       "      <td>MADGOAN JN.</td>\n",
       "      <td>SAWANTWADI ROAD</td>\n",
       "      <td>Friday</td>\n",
       "    </tr>\n",
       "    <tr>\n",
       "      <th>2</th>\n",
       "      <td>128</td>\n",
       "      <td>MAO-KOP SPEC</td>\n",
       "      <td>MADGOAN JN.</td>\n",
       "      <td>CHHATRAPATI SHAHU MAHARAJ TERMINUS</td>\n",
       "      <td>Friday</td>\n",
       "    </tr>\n",
       "    <tr>\n",
       "      <th>3</th>\n",
       "      <td>290</td>\n",
       "      <td>PALACE ON WH</td>\n",
       "      <td>DELHI-SAFDAR JANG</td>\n",
       "      <td>DELHI-SAFDAR JANG</td>\n",
       "      <td>Wednesday</td>\n",
       "    </tr>\n",
       "    <tr>\n",
       "      <th>4</th>\n",
       "      <td>401</td>\n",
       "      <td>BSB BHARATDA</td>\n",
       "      <td>AURANGABAD</td>\n",
       "      <td>VARANASI JN.</td>\n",
       "      <td>Saturday</td>\n",
       "    </tr>\n",
       "    <tr>\n",
       "      <th>5</th>\n",
       "      <td>421</td>\n",
       "      <td>LKO-SVDK FTR</td>\n",
       "      <td>LUCKNOW JN.</td>\n",
       "      <td>SHRI MATA VAISHNO DEVI KATRA</td>\n",
       "      <td>Tuesday</td>\n",
       "    </tr>\n",
       "    <tr>\n",
       "      <th>6</th>\n",
       "      <td>422</td>\n",
       "      <td>SVDK-LKO FTR</td>\n",
       "      <td>SHRI MATA VAISHNO DEVI KATRA</td>\n",
       "      <td>LUCKNOW JN.</td>\n",
       "      <td>Monday</td>\n",
       "    </tr>\n",
       "    <tr>\n",
       "      <th>7</th>\n",
       "      <td>477</td>\n",
       "      <td>FTR TRAIN NO</td>\n",
       "      <td>SIRSA</td>\n",
       "      <td>SIRSA</td>\n",
       "      <td>Sunday</td>\n",
       "    </tr>\n",
       "    <tr>\n",
       "      <th>8</th>\n",
       "      <td>502</td>\n",
       "      <td>RJPB-UMB FTR</td>\n",
       "      <td>RAJENDRANAGAR TERMINAL</td>\n",
       "      <td>AMBALA CANTT JN</td>\n",
       "      <td>Monday</td>\n",
       "    </tr>\n",
       "    <tr>\n",
       "      <th>9</th>\n",
       "      <td>504</td>\n",
       "      <td>PNBE-BTI FTR</td>\n",
       "      <td>PATNA JN.</td>\n",
       "      <td>BATHINDA JN</td>\n",
       "      <td>Wednesday</td>\n",
       "    </tr>\n",
       "  </tbody>\n",
       "</table>\n",
       "</div>"
      ],
      "text/plain": [
       "   Train_No    Train_Name           Source_Station_Name  \\\n",
       "0       107  SWV-MAO-VLNK               SAWANTWADI ROAD   \n",
       "1       108  VLNK-MAO-SWV                   MADGOAN JN.   \n",
       "2       128  MAO-KOP SPEC                   MADGOAN JN.   \n",
       "3       290  PALACE ON WH             DELHI-SAFDAR JANG   \n",
       "4       401  BSB BHARATDA                    AURANGABAD   \n",
       "5       421  LKO-SVDK FTR                   LUCKNOW JN.   \n",
       "6       422  SVDK-LKO FTR  SHRI MATA VAISHNO DEVI KATRA   \n",
       "7       477  FTR TRAIN NO                         SIRSA   \n",
       "8       502  RJPB-UMB FTR        RAJENDRANAGAR TERMINAL   \n",
       "9       504  PNBE-BTI FTR                     PATNA JN.   \n",
       "\n",
       "             Destination_Station_Name       days  \n",
       "0                         MADGOAN JN.   Saturday  \n",
       "1                     SAWANTWADI ROAD     Friday  \n",
       "2  CHHATRAPATI SHAHU MAHARAJ TERMINUS     Friday  \n",
       "3                   DELHI-SAFDAR JANG  Wednesday  \n",
       "4                        VARANASI JN.   Saturday  \n",
       "5        SHRI MATA VAISHNO DEVI KATRA    Tuesday  \n",
       "6                         LUCKNOW JN.     Monday  \n",
       "7                               SIRSA     Sunday  \n",
       "8                     AMBALA CANTT JN     Monday  \n",
       "9                         BATHINDA JN  Wednesday  "
      ]
     },
     "execution_count": 7,
     "metadata": {},
     "output_type": "execute_result"
    }
   ],
   "source": [
    "print(\"First 10 rows in Dataset\")\n",
    "df.head(10)"
   ]
  },
  {
   "cell_type": "code",
   "execution_count": 8,
   "id": "f0ac04ab",
   "metadata": {},
   "outputs": [
    {
     "name": "stdout",
     "output_type": "stream",
     "text": [
      "\n",
      "Dataset Info:\n",
      "<class 'pandas.core.frame.DataFrame'>\n",
      "RangeIndex: 11113 entries, 0 to 11112\n",
      "Data columns (total 5 columns):\n",
      " #   Column                    Non-Null Count  Dtype \n",
      "---  ------                    --------------  ----- \n",
      " 0   Train_No                  11113 non-null  int64 \n",
      " 1   Train_Name                11113 non-null  object\n",
      " 2   Source_Station_Name       11113 non-null  object\n",
      " 3   Destination_Station_Name  11113 non-null  object\n",
      " 4   days                      11113 non-null  object\n",
      "dtypes: int64(1), object(4)\n",
      "memory usage: 434.2+ KB\n"
     ]
    }
   ],
   "source": [
    "print(\"\\nDataset Info:\")\n",
    "df.info()"
   ]
  },
  {
   "cell_type": "code",
   "execution_count": 9,
   "id": "783d1575",
   "metadata": {},
   "outputs": [
    {
     "name": "stdout",
     "output_type": "stream",
     "text": [
      "\n",
      "Missing Values in Each Column:\n"
     ]
    },
    {
     "data": {
      "text/plain": [
       "Train_No                    0\n",
       "Train_Name                  0\n",
       "Source_Station_Name         0\n",
       "Destination_Station_Name    0\n",
       "days                        0\n",
       "dtype: int64"
      ]
     },
     "execution_count": 9,
     "metadata": {},
     "output_type": "execute_result"
    }
   ],
   "source": [
    "print(\"\\nMissing Values in Each Column:\")\n",
    "df.isnull().sum()"
   ]
  },
  {
   "cell_type": "code",
   "execution_count": 10,
   "id": "7b74ac91",
   "metadata": {},
   "outputs": [
    {
     "name": "stdout",
     "output_type": "stream",
     "text": [
      "\n",
      "Total no.of.trains: 11113\n",
      "\n"
     ]
    }
   ],
   "source": [
    "num_trains = df.shape[0]\n",
    "print(f\"\\nTotal no.of.trains: {num_trains}\\n\")"
   ]
  },
  {
   "cell_type": "code",
   "execution_count": 11,
   "id": "a9df21f2",
   "metadata": {},
   "outputs": [
    {
     "name": "stdout",
     "output_type": "stream",
     "text": [
      "\n",
      "Total no.of.Unique_Source_Station_Name: 921\n",
      "\n"
     ]
    }
   ],
   "source": [
    "num_unique_source_station_name = df['Source_Station_Name'].nunique()\n",
    "print(f\"\\nTotal no.of.Unique_Source_Station_Name: {num_unique_source_station_name}\\n\")"
   ]
  },
  {
   "cell_type": "code",
   "execution_count": 12,
   "id": "27471705",
   "metadata": {},
   "outputs": [
    {
     "name": "stdout",
     "output_type": "stream",
     "text": [
      "\n",
      "Total no.of.Unique_Destination_Station_Name: 924\n",
      "\n"
     ]
    }
   ],
   "source": [
    "num_unique_source_destination_name = df['Destination_Station_Name'].nunique()\n",
    "print(f\"\\nTotal no.of.Unique_Destination_Station_Name: {num_unique_source_destination_name}\\n\")"
   ]
  },
  {
   "cell_type": "code",
   "execution_count": 13,
   "id": "79e86c17",
   "metadata": {},
   "outputs": [
    {
     "name": "stdout",
     "output_type": "stream",
     "text": [
      "\n",
      "Most_Common_Source_Station_Name: CST-MUMBAI\n",
      "\n"
     ]
    }
   ],
   "source": [
    "most_common_source = df['Source_Station_Name'].mode()[0]\n",
    "print(f\"\\nMost_Common_Source_Station_Name: {most_common_source}\\n\")"
   ]
  },
  {
   "cell_type": "code",
   "execution_count": 14,
   "id": "45fe222b",
   "metadata": {},
   "outputs": [
    {
     "name": "stdout",
     "output_type": "stream",
     "text": [
      "\n",
      "Most_Common_Destination_Station_Name: CST-MUMBAI\n",
      "\n"
     ]
    }
   ],
   "source": [
    "most_common_destination = df['Destination_Station_Name'].mode()[0]\n",
    "print(f\"\\nMost_Common_Destination_Station_Name: {most_common_destination}\\n\")"
   ]
  },
  {
   "cell_type": "code",
   "execution_count": 15,
   "id": "e79b53da",
   "metadata": {},
   "outputs": [
    {
     "name": "stdout",
     "output_type": "stream",
     "text": [
      "\n",
      "Missing Values in Each Column:\n",
      "\n",
      "Train_No                    0\n",
      "Train_Name                  0\n",
      "Source_Station_Name         0\n",
      "Destination_Station_Name    0\n",
      "days                        0\n",
      "dtype: int64\n"
     ]
    }
   ],
   "source": [
    "print(\"\\nMissing Values in Each Column:\\n\")\n",
    "print(df.isnull().sum())"
   ]
  },
  {
   "cell_type": "code",
   "execution_count": 16,
   "id": "893c3ed2",
   "metadata": {},
   "outputs": [],
   "source": [
    "df['Source_Station_Name'] = df['Source_Station_Name'].str.upper()\n",
    "df['Destination_Station_Name'] = df['Destination_Station_Name'].str.upper()"
   ]
  },
  {
   "cell_type": "code",
   "execution_count": 17,
   "id": "c99b2212",
   "metadata": {},
   "outputs": [
    {
     "data": {
      "text/html": [
       "<div>\n",
       "<style scoped>\n",
       "    .dataframe tbody tr th:only-of-type {\n",
       "        vertical-align: middle;\n",
       "    }\n",
       "\n",
       "    .dataframe tbody tr th {\n",
       "        vertical-align: top;\n",
       "    }\n",
       "\n",
       "    .dataframe thead th {\n",
       "        text-align: right;\n",
       "    }\n",
       "</style>\n",
       "<table border=\"1\" class=\"dataframe\">\n",
       "  <thead>\n",
       "    <tr style=\"text-align: right;\">\n",
       "      <th></th>\n",
       "      <th>Train_No</th>\n",
       "      <th>Train_Name</th>\n",
       "      <th>Source_Station_Name</th>\n",
       "      <th>Destination_Station_Name</th>\n",
       "      <th>days</th>\n",
       "    </tr>\n",
       "  </thead>\n",
       "  <tbody>\n",
       "    <tr>\n",
       "      <th>11103</th>\n",
       "      <td>99835</td>\n",
       "      <td>LNL-PUNE EMU</td>\n",
       "      <td>LONAVLA</td>\n",
       "      <td>PUNE JN.</td>\n",
       "      <td>Tuesday</td>\n",
       "    </tr>\n",
       "    <tr>\n",
       "      <th>11104</th>\n",
       "      <td>99836</td>\n",
       "      <td>PUNE-TGN EMU</td>\n",
       "      <td>PUNE JN.</td>\n",
       "      <td>LONAVLA</td>\n",
       "      <td>Saturday</td>\n",
       "    </tr>\n",
       "    <tr>\n",
       "      <th>11105</th>\n",
       "      <td>99901</td>\n",
       "      <td>TGN-PUNE EMU</td>\n",
       "      <td>TALEGAON</td>\n",
       "      <td>PUNE JN.</td>\n",
       "      <td>Tuesday</td>\n",
       "    </tr>\n",
       "    <tr>\n",
       "      <th>11106</th>\n",
       "      <td>99902</td>\n",
       "      <td>PUNE-TGN EMU</td>\n",
       "      <td>PUNE JN.</td>\n",
       "      <td>TALEGAON</td>\n",
       "      <td>Sunday</td>\n",
       "    </tr>\n",
       "    <tr>\n",
       "      <th>11107</th>\n",
       "      <td>99903</td>\n",
       "      <td>TGN-PUNE EMU</td>\n",
       "      <td>TALEGAON</td>\n",
       "      <td>PUNE JN.</td>\n",
       "      <td>Wednesday</td>\n",
       "    </tr>\n",
       "    <tr>\n",
       "      <th>11108</th>\n",
       "      <td>99904</td>\n",
       "      <td>PUNE-TGN EMU</td>\n",
       "      <td>PUNE JN.</td>\n",
       "      <td>TALEGAON</td>\n",
       "      <td>Tuesday</td>\n",
       "    </tr>\n",
       "    <tr>\n",
       "      <th>11109</th>\n",
       "      <td>99905</td>\n",
       "      <td>EMU</td>\n",
       "      <td>TALEGAON</td>\n",
       "      <td>SHIVAJINAGAR</td>\n",
       "      <td>Monday</td>\n",
       "    </tr>\n",
       "    <tr>\n",
       "      <th>11110</th>\n",
       "      <td>99906</td>\n",
       "      <td>EMU</td>\n",
       "      <td>PUNE JN.</td>\n",
       "      <td>TALEGAON</td>\n",
       "      <td>Wednesday</td>\n",
       "    </tr>\n",
       "    <tr>\n",
       "      <th>11111</th>\n",
       "      <td>99907</td>\n",
       "      <td>EMU</td>\n",
       "      <td>TALEGAON</td>\n",
       "      <td>PUNE JN.</td>\n",
       "      <td>Thursday</td>\n",
       "    </tr>\n",
       "    <tr>\n",
       "      <th>11112</th>\n",
       "      <td>99908</td>\n",
       "      <td>EMU</td>\n",
       "      <td>PUNE JN.</td>\n",
       "      <td>TALEGAON</td>\n",
       "      <td>Sunday</td>\n",
       "    </tr>\n",
       "  </tbody>\n",
       "</table>\n",
       "</div>"
      ],
      "text/plain": [
       "       Train_No    Train_Name Source_Station_Name Destination_Station_Name  \\\n",
       "11103     99835  LNL-PUNE EMU             LONAVLA                 PUNE JN.   \n",
       "11104     99836  PUNE-TGN EMU            PUNE JN.                  LONAVLA   \n",
       "11105     99901  TGN-PUNE EMU            TALEGAON                 PUNE JN.   \n",
       "11106     99902  PUNE-TGN EMU            PUNE JN.                 TALEGAON   \n",
       "11107     99903  TGN-PUNE EMU            TALEGAON                 PUNE JN.   \n",
       "11108     99904  PUNE-TGN EMU            PUNE JN.                 TALEGAON   \n",
       "11109     99905           EMU            TALEGAON             SHIVAJINAGAR   \n",
       "11110     99906           EMU            PUNE JN.                 TALEGAON   \n",
       "11111     99907           EMU            TALEGAON                 PUNE JN.   \n",
       "11112     99908           EMU            PUNE JN.                 TALEGAON   \n",
       "\n",
       "            days  \n",
       "11103    Tuesday  \n",
       "11104   Saturday  \n",
       "11105    Tuesday  \n",
       "11106     Sunday  \n",
       "11107  Wednesday  \n",
       "11108    Tuesday  \n",
       "11109     Monday  \n",
       "11110  Wednesday  \n",
       "11111   Thursday  \n",
       "11112     Sunday  "
      ]
     },
     "execution_count": 17,
     "metadata": {},
     "output_type": "execute_result"
    }
   ],
   "source": [
    "df.tail(10)"
   ]
  },
  {
   "cell_type": "code",
   "execution_count": 18,
   "id": "a0b2f2a1",
   "metadata": {},
   "outputs": [
    {
     "data": {
      "text/plain": [
       "array(['Saturday', 'Friday', 'Wednesday', 'Tuesday', 'Monday', 'Sunday',\n",
       "       'Thursday', 'Mondayd', 'Thursdayd', 'Tuesdayd', 'Fridayd',\n",
       "       'Wednesdayd', 'Saturdayd', 'Sundayd'], dtype=object)"
      ]
     },
     "execution_count": 18,
     "metadata": {},
     "output_type": "execute_result"
    }
   ],
   "source": [
    "df['days'].unique()"
   ]
  },
  {
   "cell_type": "code",
   "execution_count": 19,
   "id": "095bed44",
   "metadata": {},
   "outputs": [
    {
     "name": "stdout",
     "output_type": "stream",
     "text": [
      "['Saturday' 'Friday' 'Wednesday' 'Tuesday' 'Monday' 'Sunday' 'Thursday']\n"
     ]
    }
   ],
   "source": [
    "df['days'] = df['days'].str.rstrip('d')\n",
    "print(df['days'].unique())"
   ]
  },
  {
   "cell_type": "code",
   "execution_count": 20,
   "id": "7f0f563f",
   "metadata": {},
   "outputs": [
    {
     "name": "stdout",
     "output_type": "stream",
     "text": [
      "\n",
      "Total.no.of.operating on saturdays_trains: \n",
      "    Train_No    Train_Name Source_Station_Name Destination_Station_Name  \\\n",
      "0        107  SWV-MAO-VLNK     SAWANTWADI ROAD              MADGOAN JN.   \n",
      "4        401  BSB BHARATDA          AURANGABAD             VARANASI JN.   \n",
      "21      1196  NGP-KRMI SPL      NAGPUR JN.(CR)                  KARMALI   \n",
      "28      1706   JBP-BDTS SF            JABALPUR          BANDRA TERMINUS   \n",
      "45      2834  SRC-RJT SF A     SANTRAGACHI JN.                   RAJKOT   \n",
      "\n",
      "        days  \n",
      "0   Saturday  \n",
      "4   Saturday  \n",
      "21  Saturday  \n",
      "28  Saturday  \n",
      "45  Saturday  \n"
     ]
    }
   ],
   "source": [
    "saturdays_trains = df[df['days'].str.contains('Saturday', case=False)]\n",
    "print(\"\\nTotal.no.of.operating on saturdays_trains: \")\n",
    "print(saturdays_trains.head())"
   ]
  },
  {
   "cell_type": "code",
   "execution_count": 21,
   "id": "fef85d61",
   "metadata": {},
   "outputs": [
    {
     "name": "stdout",
     "output_type": "stream",
     "text": [
      "\n",
      "Number of trains operating on Saturdays: 1593\n"
     ]
    }
   ],
   "source": [
    "print(\"\\nNumber of trains operating on Saturdays:\", saturdays_trains.shape[0])"
   ]
  },
  {
   "cell_type": "code",
   "execution_count": 22,
   "id": "1c6214e4",
   "metadata": {},
   "outputs": [
    {
     "data": {
      "text/plain": [
       "921"
      ]
     },
     "execution_count": 22,
     "metadata": {},
     "output_type": "execute_result"
    }
   ],
   "source": [
    "df['Source_Station_Name'].nunique()"
   ]
  },
  {
   "cell_type": "code",
   "execution_count": 23,
   "id": "f770a676",
   "metadata": {},
   "outputs": [
    {
     "name": "stdout",
     "output_type": "stream",
     "text": [
      "\n",
      "Trains starting from CHENNAI CENTRAL:\n",
      "     Train_No    Train_Name Source_Station_Name Destination_Station_Name  \\\n",
      "47       2842   MAS SRC SPL     CHENNAI CENTRAL          SANTRAGACHI JN.   \n",
      "119      6041  MAS-QLN SPEC     CHENNAI CENTRAL                   QUILON   \n",
      "121      6043   MAS-QLN SPL     CHENNAI CENTRAL                   QUILON   \n",
      "124      6047   MAS-QLN SPL     CHENNAI CENTRAL                   QUILON   \n",
      "131      6058  MAS-SRC  EXP     CHENNAI CENTRAL          SANTRAGACHI JN.   \n",
      "\n",
      "          days  \n",
      "47   Wednesday  \n",
      "119     Monday  \n",
      "121   Saturday  \n",
      "124     Friday  \n",
      "131    Tuesday  \n",
      "\n",
      "Number of trains starting from CHENNAI CENTRAL: 78\n"
     ]
    }
   ],
   "source": [
    "station_name = 'CHENNAI CENTRAL'\n",
    "trains_from_specific_station = df[df['Source_Station_Name'] == station_name]\n",
    "print(f\"\\nTrains starting from {station_name}:\")\n",
    "print(trains_from_specific_station.head())\n",
    "print(f\"\\nNumber of trains starting from {station_name}:\", trains_from_specific_station.shape[0])"
   ]
  },
  {
   "cell_type": "code",
   "execution_count": 24,
   "id": "601543f6",
   "metadata": {},
   "outputs": [
    {
     "name": "stdout",
     "output_type": "stream",
     "text": [
      "\n",
      "Number of trains from each source station:\n",
      "    Source_Station_Name  Train_Count\n",
      "0          ABHANPUR JN.            2\n",
      "1                ABOHAR            1\n",
      "2              ABU ROAD            1\n",
      "3          ACHHNERA JN.            1\n",
      "4              ADILABAD            5\n",
      "..                  ...          ...\n",
      "916           WARASEONI            1\n",
      "917          WARDHA JN.            4\n",
      "918         WHITE FIELD            2\n",
      "919       YAMUNA BRIDGE            2\n",
      "920      YESVANTPUR JN.           60\n",
      "\n",
      "[921 rows x 2 columns]\n"
     ]
    }
   ],
   "source": [
    "train_count_per_station = df.groupby('Source_Station_Name')['Train_No'].count().reset_index(name='Train_Count')\n",
    "print(\"\\nNumber of trains from each source station:\")\n",
    "print(train_count_per_station)"
   ]
  },
  {
   "cell_type": "code",
   "execution_count": 25,
   "id": "132f369e",
   "metadata": {},
   "outputs": [
    {
     "name": "stdout",
     "output_type": "stream",
     "text": [
      "\n",
      "Average number of trains per day for each source station:\n",
      "    Source_Station_Name  Avg_Trains_Per_Day\n",
      "0          ABHANPUR JN.                 1.0\n",
      "1                ABOHAR                 1.0\n",
      "2              ABU ROAD                 1.0\n",
      "3          ACHHNERA JN.                 1.0\n",
      "4              ADILABAD                 1.0\n",
      "..                  ...                 ...\n",
      "916           WARASEONI                 1.0\n",
      "917          WARDHA JN.                 1.0\n",
      "918         WHITE FIELD                 1.0\n",
      "919       YAMUNA BRIDGE                 1.0\n",
      "920      YESVANTPUR JN.                 1.0\n",
      "\n",
      "[921 rows x 2 columns]\n"
     ]
    }
   ],
   "source": [
    "df['Num_Operating_Days'] = df['days'].apply(lambda x: len(x.split(',')))\n",
    "\n",
    "avg_trains_per_day = df.groupby('Source_Station_Name')['Num_Operating_Days'].mean().reset_index(name='Avg_Trains_Per_Day')\n",
    "print(\"\\nAverage number of trains per day for each source station:\")\n",
    "print(avg_trains_per_day)"
   ]
  },
  {
   "cell_type": "code",
   "execution_count": 26,
   "id": "a387be4d",
   "metadata": {},
   "outputs": [
    {
     "name": "stdout",
     "output_type": "stream",
     "text": [
      "\n",
      "Sample data with Train_Type column added:\n",
      "   Train_No    Train_Name       days Train_Type\n",
      "0       107  SWV-MAO-VLNK   Saturday    Weekend\n",
      "1       108  VLNK-MAO-SWV     Friday    Weekday\n",
      "2       128  MAO-KOP SPEC     Friday    Weekday\n",
      "3       290  PALACE ON WH  Wednesday    Weekday\n",
      "4       401  BSB BHARATDA   Saturday    Weekend\n"
     ]
    }
   ],
   "source": [
    "def categorize_days(day_string):\n",
    "    weekdays = {'Monday', 'Tuesday', 'Wednesday', 'Thursday', 'Friday'}\n",
    "    weekends = {'Saturday', 'Sunday'}\n",
    "    days_set = set(day_string.split(','))\n",
    "\n",
    "    if days_set.issubset(weekdays):\n",
    "        return 'Weekday'\n",
    "    elif days_set.issubset(weekends):\n",
    "        return 'Weekend'\n",
    "    else:\n",
    "        return 'Both'\n",
    "\n",
    "df['Train_Type'] = df['days'].apply(categorize_days)\n",
    "\n",
    "print(\"\\nSample data with Train_Type column added:\")\n",
    "print(df[['Train_No', 'Train_Name', 'days', 'Train_Type']].head())"
   ]
  },
  {
   "cell_type": "code",
   "execution_count": 27,
   "id": "f8a668e7",
   "metadata": {},
   "outputs": [],
   "source": [
    "import matplotlib.pyplot as plt\n",
    "import seaborn as sns"
   ]
  },
  {
   "cell_type": "code",
   "execution_count": 34,
   "id": "4366923a",
   "metadata": {},
   "outputs": [],
   "source": [
    "day_distribution = df['days'].value_counts()"
   ]
  },
  {
   "cell_type": "code",
   "execution_count": 35,
   "id": "ac07524c",
   "metadata": {},
   "outputs": [
    {
     "data": {
      "text/plain": [
       "days\n",
       "Friday       1649\n",
       "Tuesday      1628\n",
       "Wednesday    1612\n",
       "Sunday       1602\n",
       "Saturday     1593\n",
       "Thursday     1526\n",
       "Monday       1503\n",
       "Name: count, dtype: int64"
      ]
     },
     "execution_count": 35,
     "metadata": {},
     "output_type": "execute_result"
    }
   ],
   "source": [
    "day_distribution"
   ]
  },
  {
   "cell_type": "code",
   "execution_count": 38,
   "id": "229688b3",
   "metadata": {},
   "outputs": [],
   "source": [
    "plt.figure(figsize=(8,5))\n",
    "sns.barplot(x=day_distribution.index, y=day_distribution.values, hue=day_distribution.index, dodge=False, palette=\"viridis\", legend=False)\n",
    "plt.title('Distribution of Train Journeys by Days')\n",
    "plt.xlabel('Operating Day')\n",
    "plt.ylabel('Number of Trains')\n",
    "plt.xticks(rotation=45)\n",
    "plt.show()\n"
   ]
  },
  {
   "cell_type": "code",
   "execution_count": 39,
   "id": "8441a351",
   "metadata": {},
   "outputs": [],
   "source": [
    "# Top 10 most frequent source stations\n",
    "top_sources = df['Source_Station_Name'].value_counts().head(10)"
   ]
  },
  {
   "cell_type": "code",
   "execution_count": 40,
   "id": "236738f4",
   "metadata": {},
   "outputs": [
    {
     "name": "stderr",
     "output_type": "stream",
     "text": [
      "C:\\Users\\Hp\\AppData\\Local\\Temp\\ipykernel_28348\\2720167916.py:3: FutureWarning: \n",
      "\n",
      "Passing `palette` without assigning `hue` is deprecated and will be removed in v0.14.0. Assign the `y` variable to `hue` and set `legend=False` for the same effect.\n",
      "\n",
      "  sns.barplot(x=top_sources.values, y=top_sources.index, palette=\"magma\")\n"
     ]
    }
   ],
   "source": [
    "# Bar plot\n",
    "plt.figure(figsize=(10,6))\n",
    "sns.barplot(x=top_sources.values, y=top_sources.index, palette=\"magma\")\n",
    "plt.title('Top 10 Source Stations with Most Trains')\n",
    "plt.xlabel('Number of Trains')\n",
    "plt.ylabel('Source Station')\n",
    "plt.show()"
   ]
  },
  {
   "cell_type": "code",
   "execution_count": 41,
   "id": "9dd7f1f0",
   "metadata": {},
   "outputs": [
    {
     "name": "stderr",
     "output_type": "stream",
     "text": [
      "C:\\Users\\Hp\\AppData\\Local\\Temp\\ipykernel_28348\\1158022133.py:5: FutureWarning: \n",
      "\n",
      "Passing `palette` without assigning `hue` is deprecated and will be removed in v0.14.0. Assign the `y` variable to `hue` and set `legend=False` for the same effect.\n",
      "\n",
      "  sns.barplot(x=top_destinations.values, y=top_destinations.index, palette=\"coolwarm\")\n"
     ]
    }
   ],
   "source": [
    "# Top 10 most frequent destination stations\n",
    "top_destinations = df['Destination_Station_Name'].value_counts().head(10)\n",
    "\n",
    "plt.figure(figsize=(10,6))\n",
    "sns.barplot(x=top_destinations.values, y=top_destinations.index, palette=\"coolwarm\")\n",
    "plt.title('Top 10 Destination Stations with Most Trains')\n",
    "plt.xlabel('Number of Trains')\n",
    "plt.ylabel('Destination Station')\n",
    "plt.show()"
   ]
  },
  {
   "cell_type": "code",
   "execution_count": 42,
   "id": "1def8e8f",
   "metadata": {},
   "outputs": [
    {
     "name": "stderr",
     "output_type": "stream",
     "text": [
      "C:\\Users\\Hp\\AppData\\Local\\Temp\\ipykernel_28348\\2971779883.py:3: FutureWarning: \n",
      "\n",
      "Passing `palette` without assigning `hue` is deprecated and will be removed in v0.14.0. Assign the `x` variable to `hue` and set `legend=False` for the same effect.\n",
      "\n",
      "  sns.countplot(data=df, x='days', order=df['days'].value_counts().index, palette=\"pastel\")\n"
     ]
    }
   ],
   "source": [
    "# Count plot for number of trains per day\n",
    "plt.figure(figsize=(8,5))\n",
    "sns.countplot(data=df, x='days', order=df['days'].value_counts().index, palette=\"pastel\")\n",
    "plt.title('Number of Trains Operating Per Day')\n",
    "plt.xlabel('Day of the Week')\n",
    "plt.ylabel('Number of Trains')\n",
    "plt.xticks(rotation=45)\n",
    "plt.show()"
   ]
  },
  {
   "cell_type": "code",
   "execution_count": 43,
   "id": "88df0324",
   "metadata": {},
   "outputs": [],
   "source": [
    "# Pivot table for heatmap (limit to top 15 stations for clarity)\n",
    "top_sources = df['Source_Station_Name'].value_counts().head(15).index\n",
    "top_dests = df['Destination_Station_Name'].value_counts().head(15).index\n",
    "\n",
    "heatmap_data = df[df['Source_Station_Name'].isin(top_sources) & df['Destination_Station_Name'].isin(top_dests)]\n",
    "pivot_table = heatmap_data.pivot_table(index='Source_Station_Name', columns='Destination_Station_Name', values='Train_No', aggfunc='count', fill_value=0)\n",
    "\n",
    "plt.figure(figsize=(14,8))\n",
    "sns.heatmap(pivot_table, annot=True, fmt='d', cmap='YlGnBu')\n",
    "plt.title('Train Frequency Heatmap Between Top Source and Destination Stations')\n",
    "plt.xlabel('Destination Station')\n",
    "plt.ylabel('Source Station')\n",
    "plt.show()\n"
   ]
  },
  {
   "cell_type": "markdown",
   "id": "0fba6217",
   "metadata": {},
   "source": [
    "## Insights:\n",
    "\n",
    "## Friday seems to be the busiest travel day — likely due to end-of-week travel, people returning home, or heading for weekends.\n",
    "\n",
    "## Monday and Thursday being low indicates operational optimization might be happening on these days (maintenance / less demand).\n",
    "\n",
    "## Saturday and Sunday are moderately high, supporting weekend travel demand — but not peaking as high as Friday."
   ]
  },
  {
   "cell_type": "markdown",
   "id": "e72fcbd6",
   "metadata": {},
   "source": [
    "## Recommendations:\n",
    "\n",
    "## Increase train services on Friday to manage the peak demand.\n",
    "\n",
    "## Schedule heavy maintenance on Mondays or Thursdays when train frequency is naturally lower.\n",
    "\n",
    "## Review and optimize weekend schedules — as Saturday is relatively lower than Friday but still significant."
   ]
  },
  {
   "cell_type": "code",
   "execution_count": 44,
   "id": "ae46b281",
   "metadata": {},
   "outputs": [
    {
     "name": "stderr",
     "output_type": "stream",
     "text": [
      "C:\\Users\\Hp\\AppData\\Local\\Temp\\ipykernel_28348\\2568898247.py:4: FutureWarning: \n",
      "\n",
      "Passing `palette` without assigning `hue` is deprecated and will be removed in v0.14.0. Assign the `y` variable to `hue` and set `legend=False` for the same effect.\n",
      "\n",
      "  sns.barplot(x=top_sources.values, y=top_sources.index, palette=\"magma\")\n"
     ]
    }
   ],
   "source": [
    "top_sources = df['Source_Station_Name'].value_counts().head(10)\n",
    "\n",
    "plt.figure(figsize=(10,6))\n",
    "sns.barplot(x=top_sources.values, y=top_sources.index, palette=\"magma\")\n",
    "plt.title('Top 10 Source Stations with Most Trains')\n",
    "plt.xlabel('Number of Trains')\n",
    "plt.ylabel('Source Station')\n",
    "plt.show()\n"
   ]
  },
  {
   "cell_type": "code",
   "execution_count": 45,
   "id": "404c4f28",
   "metadata": {},
   "outputs": [
    {
     "name": "stderr",
     "output_type": "stream",
     "text": [
      "C:\\Users\\Hp\\AppData\\Local\\Temp\\ipykernel_28348\\1445159967.py:4: FutureWarning: \n",
      "\n",
      "Passing `palette` without assigning `hue` is deprecated and will be removed in v0.14.0. Assign the `y` variable to `hue` and set `legend=False` for the same effect.\n",
      "\n",
      "  sns.barplot(x=top_destinations.values, y=top_destinations.index, palette=\"coolwarm\")\n"
     ]
    }
   ],
   "source": [
    "top_destinations = df['Destination_Station_Name'].value_counts().head(10)\n",
    "\n",
    "plt.figure(figsize=(10,6))\n",
    "sns.barplot(x=top_destinations.values, y=top_destinations.index, palette=\"coolwarm\")\n",
    "plt.title('Top 10 Destination Stations with Most Trains')\n",
    "plt.xlabel('Number of Trains')\n",
    "plt.ylabel('Destination Station')\n",
    "plt.show()\n"
   ]
  },
  {
   "cell_type": "code",
   "execution_count": 46,
   "id": "3b36561a",
   "metadata": {},
   "outputs": [
    {
     "name": "stderr",
     "output_type": "stream",
     "text": [
      "C:\\Users\\Hp\\AppData\\Local\\Temp\\ipykernel_28348\\1546634956.py:2: FutureWarning: \n",
      "\n",
      "Passing `palette` without assigning `hue` is deprecated and will be removed in v0.14.0. Assign the `x` variable to `hue` and set `legend=False` for the same effect.\n",
      "\n",
      "  sns.countplot(data=df, x='days', order=df['days'].value_counts().index, palette=\"pastel\")\n"
     ]
    }
   ],
   "source": [
    "plt.figure(figsize=(8,5))\n",
    "sns.countplot(data=df, x='days', order=df['days'].value_counts().index, palette=\"pastel\")\n",
    "plt.title('Number of Trains Operating Per Day')\n",
    "plt.xlabel('Day of the Week')\n",
    "plt.ylabel('Number of Trains')\n",
    "plt.xticks(rotation=45)\n",
    "plt.show()\n"
   ]
  },
  {
   "cell_type": "code",
   "execution_count": null,
   "id": "556f128c",
   "metadata": {},
   "outputs": [],
   "source": [
    "top_sources = df['Source_Station_Name'].value_counts().head(15).index\n",
    "top_dests = df['Destination_Station_Name'].value_counts().head(15).index\n",
    "\n",
    "heatmap_data = df[df['Source_Station_Name'].isin(top_sources) & df['Destination_Station_Name'].isin(top_dests)]\n",
    "pivot_table = heatmap_data.pivot_table(index='Source_Station_Name', columns='Destination_Station_Name', values=3'Train_No', aggfunc='count', fill_value=0)\n",
    "\n",
    "plt.figure(figsize=(14,8))\n",
    "sns.heatmap(pivot_table, annot=True, fmt='d', cmap='YlGnBu')\n",
    "plt.title('Train Frequency Heatmap: Top Source-Destination Pairs')\n",
    "plt.xlabel('Destination Station')\n",
    "plt.ylabel('Source Station')\n",
    "plt.show()\n"
   ]
  },
  {
   "cell_type": "code",
   "execution_count": 48,
   "id": "09b124b1",
   "metadata": {},
   "outputs": [],
   "source": [
    "day_counts = df['days'].value_counts().reindex(['Monday', 'Tuesday', 'Wednesday', 'Thursday', 'Friday', 'Saturday', 'Sunday'])\n",
    "\n",
    "plt.figure(figsize=(10,5))\n",
    "sns.lineplot(x=day_counts.index, y=day_counts.values, marker='o', color='teal')\n",
    "plt.title('Weekly Trend of Train Operations')\n",
    "plt.xlabel('Day of the Week')\n",
    "plt.ylabel('Number of Trains')\n",
    "plt.grid(True)\n",
    "plt.show()\n"
   ]
  },
  {
   "cell_type": "code",
   "execution_count": null,
   "id": "94970015",
   "metadata": {},
   "outputs": [],
   "source": []
  },
  {
   "cell_type": "code",
   "execution_count": null,
   "id": "19127c3d",
   "metadata": {},
   "outputs": [],
   "source": []
  },
  {
   "cell_type": "code",
   "execution_count": null,
   "id": "76942529",
   "metadata": {},
   "outputs": [],
   "source": []
  },
  {
   "cell_type": "code",
   "execution_count": null,
   "id": "291027a8",
   "metadata": {},
   "outputs": [],
   "source": []
  },
  {
   "cell_type": "code",
   "execution_count": null,
   "id": "49b56979",
   "metadata": {},
   "outputs": [],
   "source": []
  },
  {
   "cell_type": "code",
   "execution_count": null,
   "id": "973304c4",
   "metadata": {},
   "outputs": [
    {
     "name": "stderr",
     "output_type": "stream",
     "text": [
      "C:\\Users\\Hp\\AppData\\Local\\Temp\\ipykernel_11644\\2736697063.py:8: FutureWarning: \n",
      "\n",
      "Passing `palette` without assigning `hue` is deprecated and will be removed in v0.14.0. Assign the `x` variable to `hue` and set `legend=False` for the same effect.\n",
      "\n",
      "  sns.barplot(x=source_counts.index, y=source_counts.values, palette='viridis')\n"
     ]
    }
   ],
   "source": [
    "import matplotlib.pyplot as plt\n",
    "import seaborn as sns\n",
    "\n",
    "# Count number of trains per source station\n",
    "source_counts = df['Source_Station_Name'].value_counts().head(10)\n",
    "\n",
    "plt.figure(figsize=(12,6))\n",
    "sns.barplot(x=source_counts.index, y=source_counts.values, palette='viridis')\n",
    "plt.title('Top 10 Source Stations by Number of Trains')\n",
    "plt.xlabel('Source Station')\n",
    "plt.ylabel('Number of Trains')\n",
    "plt.xticks(rotation=45)\n",
    "plt.show()\n"
   ]
  },
  {
   "cell_type": "code",
   "execution_count": null,
   "id": "5c080629",
   "metadata": {},
   "outputs": [
    {
     "name": "stderr",
     "output_type": "stream",
     "text": [
      "C:\\Users\\Hp\\AppData\\Local\\Temp\\ipykernel_11644\\3086989854.py:2: FutureWarning: \n",
      "\n",
      "Passing `palette` without assigning `hue` is deprecated and will be removed in v0.14.0. Assign the `x` variable to `hue` and set `legend=False` for the same effect.\n",
      "\n",
      "  sns.barplot(x=day_counts_df['Day'], y=day_counts_df['Number_of_Trains'], palette='magma')\n"
     ]
    }
   ],
   "source": [
    "plt.figure(figsize=(10,5))\n",
    "sns.barplot(x=day_counts_df['Day'], y=day_counts_df['Number_of_Trains'], palette='magma')\n",
    "plt.title('Number of Trains Operating on Each Day')\n",
    "plt.xlabel('Day')\n",
    "plt.ylabel('Number of Trains')\n",
    "plt.xticks(rotation=45)\n",
    "plt.show()\n"
   ]
  },
  {
   "cell_type": "code",
   "execution_count": null,
   "id": "13c4feb1",
   "metadata": {},
   "outputs": [],
   "source": []
  },
  {
   "cell_type": "code",
   "execution_count": null,
   "id": "9b202bda",
   "metadata": {},
   "outputs": [],
   "source": []
  },
  {
   "cell_type": "code",
   "execution_count": null,
   "id": "4fb420e1",
   "metadata": {},
   "outputs": [],
   "source": []
  },
  {
   "cell_type": "code",
   "execution_count": null,
   "id": "4b8076bf",
   "metadata": {},
   "outputs": [],
   "source": []
  },
  {
   "cell_type": "code",
   "execution_count": null,
   "id": "dd695c53",
   "metadata": {},
   "outputs": [],
   "source": []
  },
  {
   "cell_type": "code",
   "execution_count": null,
   "id": "bd241658",
   "metadata": {},
   "outputs": [],
   "source": []
  },
  {
   "cell_type": "code",
   "execution_count": null,
   "id": "966c6317",
   "metadata": {},
   "outputs": [],
   "source": []
  },
  {
   "cell_type": "code",
   "execution_count": null,
   "id": "05b29634",
   "metadata": {},
   "outputs": [],
   "source": []
  },
  {
   "cell_type": "code",
   "execution_count": null,
   "id": "9983bf66",
   "metadata": {},
   "outputs": [],
   "source": []
  }
 ],
 "metadata": {
  "kernelspec": {
   "display_name": "base",
   "language": "python",
   "name": "python3"
  },
  "language_info": {
   "codemirror_mode": {
    "name": "ipython",
    "version": 3
   },
   "file_extension": ".py",
   "mimetype": "text/x-python",
   "name": "python",
   "nbconvert_exporter": "python",
   "pygments_lexer": "ipython3",
   "version": "3.11.5"
  }
 },
 "nbformat": 4,
 "nbformat_minor": 5
}
